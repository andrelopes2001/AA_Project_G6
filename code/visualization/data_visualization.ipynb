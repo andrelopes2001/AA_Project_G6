{
 "cells": [
  {
   "cell_type": "code",
   "execution_count": null,
   "metadata": {},
   "outputs": [],
   "source": [
    "import warnings\n",
    "\n",
    "# Ignore UserWarning for QDA\n",
    "warnings.simplefilter(\"ignore\", UserWarning)\n",
    "\n",
    "import os\n",
    "\n",
    "dir = str(os.getcwd())\n",
    "split_dir = dir.split('\\\\')\n",
    "\n",
    "# Set the github repository directory\n",
    "for folder in reversed(split_dir):\n",
    "    if folder != 'AA_Project_G6' and 'AA_Project_G6' in split_dir:\n",
    "        os.chdir(os.path.dirname(os.getcwd()))\n",
    "    else:\n",
    "        break\n",
    "\n",
    "print('Current directory:', os.getcwd())"
   ]
  },
  {
   "cell_type": "markdown",
   "metadata": {},
   "source": [
    "# **Data Import**"
   ]
  },
  {
   "cell_type": "code",
   "execution_count": null,
   "metadata": {},
   "outputs": [],
   "source": [
    "import pandas as pd\n",
    "import numpy as np\n",
    "\n",
    "# Import data from .csv file\n",
    "df = pd.read_csv(filepath_or_buffer='./data/raw/credit_card_churn.csv', delimiter=',')\n",
    "\n",
    "df.info()\n",
    "\n",
    "print(df.isna().sum())\n",
    "\n",
    "# Drop rows with the same client ID\n",
    "df.drop_duplicates(subset='CLIENTNUM')"
   ]
  },
  {
   "cell_type": "markdown",
   "metadata": {},
   "source": [
    "# **Data Pre-processing**"
   ]
  },
  {
   "cell_type": "code",
   "execution_count": null,
   "metadata": {},
   "outputs": [],
   "source": [
    "# Drop CLIENTNUM and Naive Bayes related columns\n",
    "df.drop(['CLIENTNUM',\n",
    "         'Naive_Bayes_Classifier_Attrition_Flag_Card_Category_Contacts_Count_12_mon_Dependent_count_Education_Level_Months_Inactive_12_mon_1',\n",
    "        'Naive_Bayes_Classifier_Attrition_Flag_Card_Category_Contacts_Count_12_mon_Dependent_count_Education_Level_Months_Inactive_12_mon_2'],\n",
    "       axis=1, inplace=True)\n",
    "\n",
    "# Classify the types of features in the dataframe\n",
    "cat_feats = []\n",
    "num_feats = []\n",
    "for feat in df.columns:\n",
    "    if feat == 'Attrition_Flag':\n",
    "        None\n",
    "    else:\n",
    "        if df[feat].dtype == 'O':\n",
    "            cat_feats.append(feat)\n",
    "        else:\n",
    "            num_feats.append(feat)\n",
    "\n",
    "print('There are {} categorical features: {}'.format(len(cat_feats), cat_feats))\n",
    "print('There are {} numerical features: {}'.format(len(num_feats), num_feats))\n",
    "\n",
    "# Encode the categorical columns\n",
    "dummies = pd.get_dummies(df[['Attrition_Flag', 'Gender', 'Education_Level', 'Marital_Status', 'Income_Category', 'Card_Category']], drop_first=True)\n",
    "\n",
    "# Merge encoded columns with original dataframe\n",
    "df2 = df.join(dummies)\n",
    "\n",
    "# Drop categorical columns\n",
    "df2 = df2.drop(columns=['Attrition_Flag', 'Gender', 'Education_Level', 'Marital_Status', 'Income_Category', 'Card_Category'])"
   ]
  },
  {
   "cell_type": "markdown",
   "metadata": {},
   "source": [
    "# **Numerical Features Visualization**"
   ]
  },
  {
   "cell_type": "code",
   "execution_count": null,
   "metadata": {},
   "outputs": [],
   "source": [
    "import matplotlib.pyplot as plt\n",
    "from scipy.stats import pearsonr\n",
    "import seaborn as sns\n",
    "\n",
    "# Boxplots, histograms for numerical features\n",
    "plt.figure(figsize=(20, 40))\n",
    "\n",
    "for i,feat in enumerate(num_feats):\n",
    "    # Boxplot\n",
    "    plt.subplot(7,4,2*i+1)\n",
    "    sns.boxplot(y=df[num_feats[i]])\n",
    "    plt.title('Boxplot')\n",
    "\n",
    "    # Histogram\n",
    "    plt.subplot(7,4,2*i+2)\n",
    "    plt.hist(x=df[num_feats[i]])\n",
    "    plt.xlabel(feat)    \n",
    "    plt.title('Histogram')\n",
    "\n",
    "plt.show()"
   ]
  },
  {
   "cell_type": "markdown",
   "metadata": {},
   "source": [
    "# **Categorical Features Visualization**"
   ]
  },
  {
   "cell_type": "code",
   "execution_count": null,
   "metadata": {},
   "outputs": [],
   "source": [
    "# Bar charts for categorical features\n",
    "\n",
    "for i,feat in enumerate(cat_feats):\n",
    "    # Create a cross-tabulation of the data\n",
    "    ctab = pd.crosstab(index=df[feat], columns=df['Attrition_Flag'], normalize='index')\n",
    "    ctab.plot(kind='bar', stacked='True', figsize=(5,5))\n",
    "    \n",
    "plt.show()"
   ]
  },
  {
   "cell_type": "markdown",
   "metadata": {},
   "source": [
    "# **Correlations Heatmaps**"
   ]
  },
  {
   "cell_type": "code",
   "execution_count": null,
   "metadata": {},
   "outputs": [],
   "source": [
    "# Numerical features correlations heatmap\n",
    "df_num = df2[num_feats]\n",
    "df_num = df_num.join(df2['Attrition_Flag_Existing Customer'])\n",
    "df_num_corrs = df_num.corr(method='pearson', numeric_only=True)\n",
    "pval = df_num.corr(method=lambda x,y: pearsonr(x,y)[1], numeric_only=True)\n",
    "mask = pval > 0.1/100\n",
    "plt.subplots(figsize=(10,10))\n",
    "heatmap = sns.heatmap(df_num_corrs, mask=mask, square=True, cmap='coolwarm', annot=True)\n",
    "\n",
    "# Categorical features correlations heatmap\n",
    "df_cat = dummies\n",
    "df_cat_corrs = df_cat.corr(method='pearson', numeric_only=False)\n",
    "pval = df_cat.corr(method=lambda x,y: pearsonr(x,y)[1], numeric_only=True)\n",
    "mask = pval > 0.1/100\n",
    "plt.subplots(figsize=(10,10))\n",
    "heatmap = sns.heatmap(df_cat_corrs, mask=mask, square=True, cmap='coolwarm', annot=True)"
   ]
  }
 ],
 "metadata": {
  "kernelspec": {
   "display_name": "Python 3.9.12 ('base')",
   "language": "python",
   "name": "python3"
  },
  "language_info": {
   "name": "python",
   "version": "3.9.12"
  },
  "orig_nbformat": 4,
  "vscode": {
   "interpreter": {
    "hash": "649f20cc613c9e95d1eef24ad5b2b5cf0aec0f2ca2a245b58b1b1ffbd4c92a9b"
   }
  }
 },
 "nbformat": 4,
 "nbformat_minor": 2
}
